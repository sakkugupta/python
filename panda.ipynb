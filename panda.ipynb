{
 "cells": [
  {
   "cell_type": "code",
   "execution_count": 1,
   "metadata": {
    "collapsed": true
   },
   "outputs": [
    {
     "name": "stdout",
     "output_type": "stream",
     "text": [
      "Series([], dtype: float64)\n"
     ]
    }
   ],
   "source": [
    "#creating an empty series\n",
    "import pandas as pd\n",
    "s = pd.Series()\n",
    "print(s)"
   ]
  },
  {
   "cell_type": "code",
   "execution_count": 3,
   "metadata": {},
   "outputs": [
    {
     "name": "stdout",
     "output_type": "stream",
     "text": [
      "0    a\n1    b\n2    7\ndtype: object\n"
     ]
    }
   ],
   "source": [
    "#creating series from ndarray\n",
    "import pandas as pd\n",
    "import numpy as np\n",
    "arr=np.array(['a','b','7'])\n",
    "s=pd.Series(arr)\n",
    "print(s)"
   ]
  },
  {
   "cell_type": "code",
   "execution_count": 4,
   "metadata": {},
   "outputs": [
    {
     "name": "stdout",
     "output_type": "stream",
     "text": [
      "50    s\n51    a\n55    k\n57    k\n67    u\ndtype: object\n"
     ]
    }
   ],
   "source": [
    "import pandas as pd\n",
    "import numpy as np\n",
    "arr=np.array(['s','a','k','k','u'])\n",
    "s=pd.Series(arr,index=[50,51,55,57,67])\n",
    "print(s)"
   ]
  },
  {
   "cell_type": "code",
   "execution_count": 8,
   "metadata": {},
   "outputs": [
    {
     "name": "stdout",
     "output_type": "stream",
     "text": [
      "b    8.0\nc    NaN\ndtype: float64\n"
     ]
    }
   ],
   "source": [
    "#creating a series from dict\n",
    "import pandas as pd\n",
    "import numpy as np\n",
    "#arr={'a':0,'b':1,'c':2}\n",
    "arr={'a':0.,'b':8.}\n",
    "#s=pd.Series(arr)\n",
    "s=pd.Series(arr,index=['b','c'])\n",
    "print(s)"
   ]
  },
  {
   "cell_type": "code",
   "execution_count": 9,
   "metadata": {},
   "outputs": [
    {
     "name": "stdout",
     "output_type": "stream",
     "text": [
      "0    5\n1    5\n2    5\n3    5\n4    5\n5    5\ndtype: int64\n"
     ]
    }
   ],
   "source": [
    "#creating a series from scalar\n",
    "import pandas as pd\n",
    "import numpy as np\n",
    "arr=pd.Series(5,index=[0,1,2,3,4,5])\n",
    "print(arr)"
   ]
  },
  {
   "cell_type": "code",
   "execution_count": 22,
   "metadata": {},
   "outputs": [
    {
     "name": "stdout",
     "output_type": "stream",
     "text": [
      "1    a\ndtype: object\n"
     ]
    }
   ],
   "source": [
    "#access data from series with position\n",
    "import pandas as pd\n",
    "import numpy as np\n",
    "a=np.array(['a','b','c'])\n",
    "s=pd.Series(a,index=[1,2,3])\n",
    "print(s[0:1])\n"
   ]
  },
  {
   "cell_type": "code",
   "execution_count": 33,
   "metadata": {},
   "outputs": [
    {
     "name": "stdout",
     "output_type": "stream",
     "text": [
      "1    a\n2    b\n3    c\ndtype: object\n"
     ]
    }
   ],
   "source": [
    "#reterive data from label\n",
    "import pandas as pd\n",
    "import numpy as np\n",
    "a=np.array(['a','b','c','d','e'])\n",
    "s=pd.Series(a,index=[1,2,3,4,5])\n",
    "print(s[[1,2,3]])"
   ]
  },
  {
   "cell_type": "code",
   "execution_count": 34,
   "metadata": {},
   "outputs": [
    {
     "name": "stdout",
     "output_type": "stream",
     "text": [
      "Empty DataFrame\nColumns: []\nIndex: []\n"
     ]
    }
   ],
   "source": [
    "#create an empty panda dataframe\n",
    "import pandas as pd\n",
    "df=pd.DataFrame()\n",
    "print(df)\n",
    "\n"
   ]
  },
  {
   "cell_type": "code",
   "execution_count": 43,
   "metadata": {},
   "outputs": [
    {
     "name": "stdout",
     "output_type": "stream",
     "text": [
      "   0\n0  a\n1  b\n2  c\n"
     ]
    }
   ],
   "source": [
    "#create dataframe from lists\n",
    "import pandas as pd\n",
    "#data=[1,2,3]\n",
    "data=['a','b','c']\n",
    "df=pd.DataFrame(data)\n",
    "print(df)"
   ]
  },
  {
   "cell_type": "code",
   "execution_count": 50,
   "metadata": {},
   "outputs": [
    {
     "name": "stdout",
     "output_type": "stream",
     "text": [
      "     Name   Age alp\n0    Alex  10.0   a\n1     Bob  12.0   b\n2  Clarke  13.0   c\n"
     ]
    }
   ],
   "source": [
    "import pandas as pd\n",
    "data = [['Alex',10,'a'],['Bob',12,'b'],['Clarke',13,'c']]\n",
    "df = pd.DataFrame(data,columns=['Name','Age','alp'],dtype=float)\n",
    "print(df)"
   ]
  },
  {
   "cell_type": "code",
   "execution_count": 57,
   "metadata": {},
   "outputs": [
    {
     "name": "stdout",
     "output_type": "stream",
     "text": [
      "    Name  Age\n0    Tom   28\n1   Jack   34\n2  Steve   29\n3  Ricky   42\n"
     ]
    }
   ],
   "source": [
    "import pandas as pd\n",
    "data = {'Name':['Tom','Jack','Steve','Ricky'],'Age':[28,34,29,42]}\n",
    "df = pd.DataFrame(data)\n",
    "print(df)"
   ]
  },
  {
   "cell_type": "code",
   "execution_count": 59,
   "metadata": {},
   "outputs": [
    {
     "name": "stdout",
     "output_type": "stream",
     "text": [
      "        a   b     c    d\nfirst   1   2   NaN  4.0\nsecond  5  10  20.0  NaN\n"
     ]
    }
   ],
   "source": [
    "#create a dataframe from lists\n",
    "import pandas as pd\n",
    "data = [{'a': 1, 'b': 2,'d':4},{'a': 5, 'b': 10, 'c': 20}]\n",
    "df = pd.DataFrame(data, index=['first', 'second'])\n",
    "print (df)"
   ]
  },
  {
   "cell_type": "code",
   "execution_count": 65,
   "metadata": {},
   "outputs": [
    {
     "name": "stdout",
     "output_type": "stream",
     "text": [
      "        a   b      e\nfirst   1   2    NaN\nsecond  5  10  100.0\n        a   b     c\nfirst   1   2   NaN\nsecond  5  10  20.0\n"
     ]
    }
   ],
   "source": [
    "import pandas as pd\n",
    "data = [{'a': 1, 'b': 2},{'a': 5, 'b': 10, 'c': 20,'e':100}]\n",
    "\n",
    "#With two column indices, values same as dictionary keys\n",
    "df1 = pd.DataFrame(data, index=['first', 'second'], columns=['a', 'b','e'])\n",
    "\n",
    "#With two column indices with one index with other name\n",
    "df2 = pd.DataFrame(data, index=['first', 'second'], columns=['a', 'b','c'])\n",
    "print(df1)\n",
    "print(df2)"
   ]
  },
  {
   "cell_type": "code",
   "execution_count": 82,
   "metadata": {},
   "outputs": [
    {
     "name": "stdout",
     "output_type": "stream",
     "text": [
      "   first  second\n0    1.0     NaN\n1    2.0     NaN\n2    3.0     NaN\na    NaN     1.0\nb    NaN     2.0\nc    NaN     3.0\nd    NaN     4.0\n\n\nafter adding a column:\n   first  second  third\n0    1.0     NaN    NaN\n1    2.0     NaN    NaN\n2    3.0     NaN    NaN\na    NaN     1.0    NaN\nb    NaN     2.0    NaN\nc    NaN     3.0    NaN\nd    NaN     4.0    NaN\n\n\n   second  third\n0     NaN    NaN\n1     NaN    NaN\n2     NaN    NaN\na     1.0    NaN\nb     2.0    NaN\nc     3.0    NaN\nd     4.0    NaN\n\n\n   third\n0    NaN\n1    NaN\n2    NaN\na    NaN\nb    NaN\nc    NaN\nd    NaN\n"
     ]
    }
   ],
   "source": [
    "#create a dataframe from dict of series\n",
    "import pandas as pd\n",
    "d = {'first' : pd.Series([1, 2, 3]),'second' : pd.Series([1, 2, 3, 4], index=['a', 'b', 'c', 'd'])}\n",
    "df = pd.DataFrame(d)\n",
    "print(df)\n",
    "print('\\n')\n",
    "print('after adding a column:')\n",
    "df['third']=df['first']+df['second']\n",
    "print(df)\n",
    "print('\\n')\n",
    "del df['first']\n",
    "print(df)\n",
    "print('\\n')\n",
    "df.pop('second')\n",
    "print(df)"
   ]
  },
  {
   "cell_type": "code",
   "execution_count": null,
   "metadata": {},
   "outputs": [],
   "source": []
  }
 ],
 "metadata": {
  "kernelspec": {
   "display_name": "Python 2",
   "language": "python",
   "name": "python2"
  },
  "language_info": {
   "codemirror_mode": {
    "name": "ipython",
    "version": 2
   },
   "file_extension": ".py",
   "mimetype": "text/x-python",
   "name": "python",
   "nbconvert_exporter": "python",
   "pygments_lexer": "ipython2",
   "version": "2.7.6"
  }
 },
 "nbformat": 4,
 "nbformat_minor": 0
}
