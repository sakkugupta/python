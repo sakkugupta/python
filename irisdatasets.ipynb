{
 "cells": [
  {
   "cell_type": "code",
   "execution_count": 5,
   "metadata": {
    "collapsed": true
   },
   "outputs": [],
   "source": [
    "import pandas as pd\n",
    "import numpy as np\n"
   ]
  },
  {
   "cell_type": "code",
   "execution_count": 16,
   "metadata": {},
   "outputs": [],
   "source": [
    "name=['slen','swidth','plen','pwidth','class']\n",
    "df=pd.read_csv(\"iris.csv\")\n"
   ]
  },
  {
   "cell_type": "code",
   "execution_count": 1,
   "metadata": {},
   "outputs": [
    {
     "ename": "NameError",
     "evalue": "name 'df' is not defined",
     "traceback": [
      "\u001b[0;31m---------------------------------------------------------------------------\u001b[0m",
      "\u001b[0;31mNameError\u001b[0m                                 Traceback (most recent call last)",
      "\u001b[0;32m<ipython-input-1-0df4d9bcfab7>\u001b[0m in \u001b[0;36m<module>\u001b[0;34m()\u001b[0m\n\u001b[0;32m----> 1\u001b[0;31m \u001b[0mdf\u001b[0m\u001b[0;34m.\u001b[0m\u001b[0mshape\u001b[0m\u001b[0;34m\u001b[0m\u001b[0m\n\u001b[0m\u001b[1;32m      2\u001b[0m \u001b[0mdf\u001b[0m\u001b[0;34m.\u001b[0m\u001b[0mdescribe\u001b[0m\u001b[0;34m(\u001b[0m\u001b[0;34m)\u001b[0m\u001b[0;34m\u001b[0m\u001b[0m\n",
      "\u001b[0;31mNameError\u001b[0m: name 'df' is not defined"
     ],
     "output_type": "error"
    }
   ],
   "source": [
    "df.shape\n",
    "df.describe()"
   ]
  },
  {
   "cell_type": "code",
   "execution_count": 18,
   "metadata": {},
   "outputs": [
    {
     "name": "stdout",
     "output_type": "stream",
     "text": [
      "    sepal_length  sepal_width  petal_length  petal_width species\n0            5.1          3.5           1.4          0.2  setosa\n1            4.9          3.0           1.4          0.2  setosa\n2            4.7          3.2           1.3          0.2  setosa\n3            4.6          3.1           1.5          0.2  setosa\n4            5.0          3.6           1.4          0.2  setosa\n5            5.4          3.9           1.7          0.4  setosa\n6            4.6          3.4           1.4          0.3  setosa\n7            5.0          3.4           1.5          0.2  setosa\n8            4.4          2.9           1.4          0.2  setosa\n9            4.9          3.1           1.5          0.1  setosa\n10           5.4          3.7           1.5          0.2  setosa\n11           4.8          3.4           1.6          0.2  setosa\n12           4.8          3.0           1.4          0.1  setosa\n13           4.3          3.0           1.1          0.1  setosa\n14           5.8          4.0           1.2          0.2  setosa\n15           5.7          4.4           1.5          0.4  setosa\n16           5.4          3.9           1.3          0.4  setosa\n17           5.1          3.5           1.4          0.3  setosa\n18           5.7          3.8           1.7          0.3  setosa\n19           5.1          3.8           1.5          0.3  setosa\n"
     ]
    }
   ],
   "source": [
    "print(df.head(20))"
   ]
  },
  {
   "cell_type": "code",
   "execution_count": null,
   "metadata": {},
   "outputs": [],
   "source": []
  }
 ],
 "metadata": {
  "kernelspec": {
   "display_name": "Python 3",
   "language": "python",
   "name": "python3"
  },
  "language_info": {
   "codemirror_mode": {
    "name": "ipython",
    "version": 3
   },
   "file_extension": ".py",
   "mimetype": "text/x-python",
   "name": "python",
   "nbconvert_exporter": "python",
   "pygments_lexer": "ipython3",
   "version": "3.6.5"
  }
 },
 "nbformat": 4,
 "nbformat_minor": 1
}
